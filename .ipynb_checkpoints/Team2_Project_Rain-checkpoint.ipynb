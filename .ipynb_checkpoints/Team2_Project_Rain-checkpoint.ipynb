{
 "cells": [
  {
   "cell_type": "code",
   "execution_count": null,
   "id": "bab755f4-e59b-4a17-981b-72e144eb7919",
   "metadata": {},
   "outputs": [],
   "source": []
  },
  {
   "cell_type": "code",
   "execution_count": null,
   "id": "576dd503-32b0-4343-80ee-aae1e2340bea",
   "metadata": {},
   "outputs": [],
   "source": [
    "import os\n",
    "import math\n",
    "import pandas as pd\n",
    "import numpy as np\n",
    "import os\n",
    "import matplotlib.pyplot as plt\n",
    "from matplotlib import rcParams\n",
    "import seaborn as sns\n",
    "from scipy.stats import zscore\n",
    "from sklearn.linear_model import LinearRegression\n",
    "from sklearn.preprocessing import PolynomialFeatures\n",
    "from sklearn.metrics import mean_squared_error, r2_score\n",
    "from sklearn.model_selection import train_test_split, cross_val_score\n",
    "from sklearn.tree import export_graphviz\n",
    "from sklearn.tree import DecisionTreeRegressor\n",
    "import graphviz"
   ]
  },
  {
   "cell_type": "code",
   "execution_count": null,
   "id": "72cb4816-10d4-4b0c-892c-b0b08673e91f",
   "metadata": {},
   "outputs": [],
   "source": [
    "#DEFINITIONS\n",
    "def rmse(predicted, actual):\n",
    "    return np.sqrt(((predicted - actual)**2).mean())"
   ]
  },
  {
   "cell_type": "code",
   "execution_count": null,
   "id": "c08db834-8984-4389-8d37-bd0f9db29c4a",
   "metadata": {},
   "outputs": [],
   "source": [
    "##READ IN WEATHER STATION DATA FROM ALL CSVs\n",
    "folder_path = r'C:\\Users\\bryan.zanoli\\OneDrive\\Documents\\School\\CSUMB\\CST383-30\\project\\station_data'\n",
    "\n",
    "df_weatherdata = pd.DataFrame()\n",
    "\n",
    "for filename in os.listdir(folder_path):\n",
    "    if os.path.isfile(os.path.join(folder_path, filename)):\n",
    "        df_station = pd.read_csv(folder_path + \"\\\\\" + filename, nrows = 1, header = 0)\n",
    "        df_weather = pd.read_csv(folder_path + \"\\\\\" + filename, skiprows = 3)\n",
    "        #print('Station: ',df_station.head(3))\n",
    "        #print('Weather: ',df_weather.head(3))\n",
    "        df_weather['key'] = 1\n",
    "        df_station['key'] = 1\n",
    "        df_new = pd.merge(df_station, df_weather, on='key').drop('key', axis = 1)\n",
    "        #print('New: ',df_new.head(3))\n",
    "        df_weatherdata = pd.concat([df_new, df_weatherdata], axis = 0)\n",
    "\n",
    "df_weatherdata['year'] = pd.to_datetime(df_weatherdata['time']).dt.year\n",
    "\n",
    "print('Weather Data Read In: ',df_weatherdata.head(10))\n",
    "df_weatherdata.info()\n",
    "\n",
    "##CREATE coordinates DataFrame from df_weatherdata\n",
    "df_location = df_weatherdata[['latitude', 'longitude']].drop_duplicates()\n",
    "print('Location Data Read In: \\n',df_location)"
   ]
  }
 ],
 "metadata": {
  "kernelspec": {
   "display_name": "Python [conda env:base] *",
   "language": "python",
   "name": "conda-base-py"
  },
  "language_info": {
   "codemirror_mode": {
    "name": "ipython",
    "version": 3
   },
   "file_extension": ".py",
   "mimetype": "text/x-python",
   "name": "python",
   "nbconvert_exporter": "python",
   "pygments_lexer": "ipython3",
   "version": "3.12.7"
  }
 },
 "nbformat": 4,
 "nbformat_minor": 5
}
